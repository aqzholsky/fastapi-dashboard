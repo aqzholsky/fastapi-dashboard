{
 "cells": [
  {
   "cell_type": "code",
   "execution_count": 1,
   "id": "5b1dc9f8",
   "metadata": {},
   "outputs": [],
   "source": [
    "def click_image(file_name: str):\n",
    "    import pyautogui\n",
    "    start = pyautogui.locateCenterOnScreen(file_name)\n",
    "    pyautogui.moveTo(start)\n",
    "    pyautogui.leftClick()"
   ]
  },
  {
   "cell_type": "code",
   "execution_count": 2,
   "id": "cecacaf8",
   "metadata": {},
   "outputs": [],
   "source": [
    "from pywinauto import Desktop\n",
    "from pywinauto import Application"
   ]
  },
  {
   "cell_type": "code",
   "execution_count": 3,
   "id": "b4ed53e4",
   "metadata": {},
   "outputs": [],
   "source": [
    "app = Application(backend='win32')"
   ]
  },
  {
   "cell_type": "code",
   "execution_count": 4,
   "id": "5117083a",
   "metadata": {},
   "outputs": [
    {
     "data": {
      "text/plain": [
       "<pywinauto.application.Application at 0x28b53a40280>"
      ]
     },
     "execution_count": 4,
     "metadata": {},
     "output_type": "execute_result"
    }
   ],
   "source": [
    "app.connect(path='javaw.exe', timeout=60)"
   ]
  },
  {
   "cell_type": "code",
   "execution_count": 11,
   "id": "66a9ec10",
   "metadata": {},
   "outputs": [
    {
     "data": {
      "text/plain": [
       "[<hwndwrapper.DialogWrapper - 'Формирование ЭЦП в формате XML', SunAwtDialog, 2819964>,\n",
       " <hwndwrapper.DialogWrapper - '', SunAwtFrame, 2033016>,\n",
       " <hwndwrapper.DialogWrapper - 'TrayMessageWindow', SunAwtTrayIcon, 2361636>,\n",
       " <hwndwrapper.DialogWrapper - 'PopupMessageWindow', SunAwtFrame, 394952>,\n",
       " <hwndwrapper.DialogWrapper - '', GlassWndClass-GlassToolkitWindowClass-1, 2360220>,\n",
       " <hwndwrapper.DialogWrapper - 'theAwtToolkitWindow', SunAwtToolkit, 330434>,\n",
       " <hwndwrapper.DialogWrapper - 'M', MSCTFIME UI, 591572>,\n",
       " <hwndwrapper.DialogWrapper - 'Default IME', IME, 1378314>,\n",
       " <hwndwrapper.DialogWrapper - 'Default IME', IME, 1050626>]"
      ]
     },
     "execution_count": 11,
     "metadata": {},
     "output_type": "execute_result"
    }
   ],
   "source": [
    "app.windows()"
   ]
  },
  {
   "cell_type": "code",
   "execution_count": 8,
   "id": "d51a6f51",
   "metadata": {},
   "outputs": [
    {
     "data": {
      "text/plain": [
       "<pywinauto.application.WindowSpecification at 0x28b53a119f0>"
      ]
     },
     "execution_count": 8,
     "metadata": {},
     "output_type": "execute_result"
    }
   ],
   "source": [
    "app.window(class_name='SunAwtDialog')"
   ]
  },
  {
   "cell_type": "code",
   "execution_count": 10,
   "id": "7298dc88",
   "metadata": {},
   "outputs": [
    {
     "data": {
      "text/plain": [
       "<hwndwrapper.DialogWrapper - 'Открыть файл', SunAwtDialog, 2754428>"
      ]
     },
     "execution_count": 10,
     "metadata": {},
     "output_type": "execute_result"
    }
   ],
   "source": [
    "elem = app.window(class_name='SunAwtDialog')\n",
    "click_image('file_name.png')\n",
    "elem.type_keys('egov/AUTH_RSA256_1d0ca38e75d6251f6799040a7f6e14e14eb612e2.p12')\n",
    "elem.type_keys('{ENTER}')"
   ]
  },
  {
   "cell_type": "code",
   "execution_count": 6,
   "id": "9b514a64",
   "metadata": {},
   "outputs": [
    {
     "data": {
      "text/plain": [
       "<hwndwrapper.DialogWrapper - 'Формирование ЭЦП в формате XML', SunAwtDialog, 1182304>"
      ]
     },
     "execution_count": 6,
     "metadata": {},
     "output_type": "execute_result"
    }
   ],
   "source": [
    "elem = app.window(class_name='SunAwtDialog')\n",
    "click_image('file_name.png')\n",
    "elem.type_keys('egov/RSA256_f6af3e8197ffbc0691ea09324b179f3592d6d427.p12')\n",
    "elem.type_keys('{ENTER}')"
   ]
  },
  {
   "cell_type": "code",
   "execution_count": 12,
   "id": "e746470f",
   "metadata": {},
   "outputs": [
    {
     "data": {
      "text/plain": [
       "<hwndwrapper.DialogWrapper - 'Формирование ЭЦП в формате XML', SunAwtDialog, 2819964>"
      ]
     },
     "execution_count": 12,
     "metadata": {},
     "output_type": "execute_result"
    }
   ],
   "source": [
    "elem = app.window(class_name='SunAwtDialog')\n",
    "click_image('enter_password.png')\n",
    "elem.type_keys('AA1234')\n",
    "elem.type_keys('{ENTER}')"
   ]
  },
  {
   "cell_type": "code",
   "execution_count": 10,
   "id": "871736a5",
   "metadata": {},
   "outputs": [],
   "source": [
    "click_image('sign.png')"
   ]
  },
  {
   "cell_type": "code",
   "execution_count": 206,
   "id": "91d61b4f",
   "metadata": {},
   "outputs": [],
   "source": []
  },
  {
   "cell_type": "code",
   "execution_count": 199,
   "id": "3813ef5d",
   "metadata": {},
   "outputs": [],
   "source": [
    "button = app.windows()[8]"
   ]
  },
  {
   "cell_type": "code",
   "execution_count": 137,
   "id": "d9ba2045",
   "metadata": {},
   "outputs": [],
   "source": [
    "button.click_input()"
   ]
  },
  {
   "cell_type": "code",
   "execution_count": 45,
   "id": "504c201b",
   "metadata": {},
   "outputs": [],
   "source": [
    "dialog = app.window(title='Открыть файл')"
   ]
  },
  {
   "cell_type": "code",
   "execution_count": 46,
   "id": "a599b614",
   "metadata": {},
   "outputs": [
    {
     "name": "stdout",
     "output_type": "stream",
     "text": [
      "Control Identifiers:\n",
      "\n",
      "SunAwtDialog - 'Открыть файл'    (L1057, T289, R1793, B733)\n",
      "['SunAwtDialog', 'Открыть файлSunAwtDialog', 'Открыть файл']\n",
      "child_window(title=\"Открыть файл\", class_name=\"SunAwtDialog\")\n"
     ]
    }
   ],
   "source": [
    "dialog.print_control_identifiers()"
   ]
  },
  {
   "cell_type": "code",
   "execution_count": 26,
   "id": "1c3da751",
   "metadata": {},
   "outputs": [],
   "source": [
    "desktop = Desktop(backend=\"win32\", allow_magic_lookup=False)"
   ]
  },
  {
   "cell_type": "code",
   "execution_count": 27,
   "id": "23571469",
   "metadata": {},
   "outputs": [
    {
     "data": {
      "text/plain": [
       "[<hwndwrapper.DialogWrapper - '', ForegroundStaging, 65966>,\n",
       " <hwndwrapper.DialogWrapper - '', ForegroundStaging, 131424>,\n",
       " <common_controls.ToolTipsWrapper - '', ToolTips, 65770>,\n",
       " <common_controls.ToolTipsWrapper - '', ToolTips, 65824>,\n",
       " <common_controls.ToolTipsWrapper - '', ToolTips, 65828>,\n",
       " <common_controls.ToolTipsWrapper - '', ToolTips, 65820>,\n",
       " <common_controls.ToolTipsWrapper - '', ToolTips, 65816>,\n",
       " <common_controls.ToolTipsWrapper - '', ToolTips, 65798>,\n",
       " <common_controls.ToolTipsWrapper - '', ToolTips, 65790>,\n",
       " <common_controls.ToolTipsWrapper - '', ToolTips, 65784>,\n",
       " <common_controls.ToolTipsWrapper - '', ToolTips, 65766>,\n",
       " <hwndwrapper.DialogWrapper - 'Открыть файл', SunAwtDialog, 1771812>,\n",
       " <common_controls.ToolTipsWrapper - '', ToolTips, 65832>,\n",
       " <common_controls.ToolTipsWrapper - '', ToolTips, 65850>,\n",
       " <common_controls.ToolTipsWrapper - '', ToolTips, 65836>,\n",
       " <hwndwrapper.DialogWrapper - '', Shell_TrayWnd, 131284>,\n",
       " <common_controls.ToolTipsWrapper - '', ToolTips, 65834>,\n",
       " <hwndwrapper.DialogWrapper - '', NotifyIconOverflowWindow, 65800>,\n",
       " <hwndwrapper.DialogWrapper - '', TaskListThumbnailWnd, 65852>,\n",
       " <hwndwrapper.DialogWrapper - 'Индикатор батарей', SystemTray_Main, 66068>,\n",
       " <hwndwrapper.DialogWrapper - '', ATL:00007FFE68609280, 66090>,\n",
       " <hwndwrapper.DialogWrapper - 'Network Flyout', ATL:00007FFE61A3B210, 196650>,\n",
       " <hwndwrapper.DialogWrapper - '', PNIHiddenWnd, 327710>,\n",
       " <hwndwrapper.DialogWrapper - 'WhatsApp Voip', Chrome_WidgetWin_1, 1444012>,\n",
       " <hwndwrapper.DialogWrapper - 'Window', Windows.UI.Core.CoreWindow, 66650>,\n",
       " <common_controls.ToolTipsWrapper - '', ToolTips, 524312>,\n",
       " <hwndwrapper.DialogWrapper - 'Untitled - Jupyter Notebook - Google Chrome', Chrome_WidgetWin_1, 328786>,\n",
       " <hwndwrapper.DialogWrapper - '', SunAwtFrame, 328854>,\n",
       " <hwndwrapper.DialogWrapper - 'SSO - Google Chrome', Chrome_WidgetWin_1, 461264>,\n",
       " <hwndwrapper.DialogWrapper - '', Chrome_WidgetWin_0, 197976>,\n",
       " <hwndwrapper.DialogWrapper - '', Chrome_WidgetWin_0, 198368>,\n",
       " <hwndwrapper.DialogWrapper - '', Chrome_StatusTrayWindow, 526052>,\n",
       " <hwndwrapper.DialogWrapper - '', Chrome_SystemMessageWindow, 133734>,\n",
       " <hwndwrapper.DialogWrapper - '', Chrome_WidgetWin_0, 395868>,\n",
       " <hwndwrapper.DialogWrapper - '', Base_PowerMessageWindow, 919800>,\n",
       " <hwndwrapper.DialogWrapper - '', crashpad_SessionEndWatcher, 657132>,\n",
       " <hwndwrapper.DialogWrapper - '', WorkerW, 264724>,\n",
       " <hwndwrapper.DialogWrapper - '', WorkerW, 133688>,\n",
       " <hwndwrapper.DialogWrapper - 'WhatsApp', Chrome_WidgetWin_1, 198880>,\n",
       " <hwndwrapper.DialogWrapper - '', SunAwtFrame, 17500512>,\n",
       " <hwndwrapper.DialogWrapper - '', ApplicationManager_DesktopShellWindow, 65894>,\n",
       " <hwndwrapper.DialogWrapper - '', WorkerW, 788784>,\n",
       " <hwndwrapper.DialogWrapper - 'Диспетчер задач', TaskManagerWindow, 459838>,\n",
       " <hwndwrapper.DialogWrapper - '', Chrome_WidgetWin_0, 3147922>,\n",
       " <hwndwrapper.DialogWrapper - '', Chrome_WidgetWin_0, 133456>,\n",
       " <hwndwrapper.DialogWrapper - '', Electron_SystemPreferencesHostWindow, 1509536>,\n",
       " <hwndwrapper.DialogWrapper - '', Chrome_WidgetWin_0, 67852>,\n",
       " <hwndwrapper.DialogWrapper - '', crashpad_SessionEndWatcher, 67840>,\n",
       " <hwndwrapper.DialogWrapper - '', Chrome_SystemMessageWindow, 67798>,\n",
       " <hwndwrapper.DialogWrapper - '', Chrome_WidgetWin_0, 67794>,\n",
       " <hwndwrapper.DialogWrapper - '', Base_PowerMessageWindow, 133306>,\n",
       " <hwndwrapper.DialogWrapper - 'Spotify Free', Chrome_WidgetWin_0, 66572>,\n",
       " <common_controls.ToolTipsWrapper - '', ToolTips, 67018>,\n",
       " <common_controls.ToolTipsWrapper - '', ToolTips, 263454>,\n",
       " <hwndwrapper.DialogWrapper - '', TrayiconMessageWindow, 786912>,\n",
       " <hwndwrapper.DialogWrapper - 'C:\\Windows\\system32\\cmd.exe - jupyter  notebook', ConsoleWindowClass, 984250>,\n",
       " <hwndwrapper.DialogWrapper - 'Параметры', ApplicationFrameWindow, 328524>,\n",
       " <hwndwrapper.DialogWrapper - '', WorkerW, 394462>,\n",
       " <hwndwrapper.DialogWrapper - '', Chrome_WidgetWin_0, 66818>,\n",
       " <hwndwrapper.DialogWrapper - '', Chrome_WidgetWin_0, 263100>,\n",
       " <hwndwrapper.DialogWrapper - '', Chrome_StatusTrayWindow, 197802>,\n",
       " <hwndwrapper.DialogWrapper - '', Chrome_SystemMessageWindow, 328304>,\n",
       " <hwndwrapper.DialogWrapper - '', Chrome_WidgetWin_0, 263000>,\n",
       " <hwndwrapper.DialogWrapper - '', Base_PowerMessageWindow, 197844>,\n",
       " <hwndwrapper.DialogWrapper - '', crashpad_SessionEndWatcher, 328332>,\n",
       " <hwndwrapper.DialogWrapper - '', SystemSettingsHandlerWorkerWindowSta-00007FFE61020000, 262786>,\n",
       " <hwndwrapper.DialogWrapper - '', ApplicationFrameWindow, 197600>,\n",
       " <hwndwrapper.DialogWrapper - '', Windows.UI.Core.CoreWindow, 197614>,\n",
       " <hwndwrapper.DialogWrapper - 'Калькулятор', ApplicationFrameWindow, 131458>,\n",
       " <hwndwrapper.DialogWrapper - '', WorkerW, 132232>,\n",
       " <hwndwrapper.DialogWrapper - '', WorkerW, 131706>,\n",
       " <hwndwrapper.DialogWrapper - '', Electron_NotifyIconHostWindow, 197680>,\n",
       " <hwndwrapper.DialogWrapper - 'C:\\Windows\\system32\\lxss\\wslhost.exe', ConsoleWindowClass, 263222>,\n",
       " <hwndwrapper.DialogWrapper - 'C:\\Windows\\system32\\lxss\\wslhost.exe', ConsoleWindowClass, 66602>,\n",
       " <hwndwrapper.DialogWrapper - 'C:\\Windows\\system32\\lxss\\wslhost.exe', ConsoleWindowClass, 66600>,\n",
       " <hwndwrapper.DialogWrapper - '', Chrome_SystemMessageWindow, 66596>,\n",
       " <hwndwrapper.DialogWrapper - '', Chrome_SystemMessageWindow, 66566>,\n",
       " <hwndwrapper.DialogWrapper - '', Chrome_WidgetWin_0, 66562>,\n",
       " <hwndwrapper.DialogWrapper - '', Base_PowerMessageWindow, 66556>,\n",
       " <hwndwrapper.DialogWrapper - '', crashpad_SessionEndWatcher, 131890>,\n",
       " <hwndwrapper.DialogWrapper - 'GDI+ Window (Spotify.exe)', GDI+ Hook Window Class, 131886>,\n",
       " <hwndwrapper.DialogWrapper - 'TrayMessageWindow', SunAwtTrayIcon, 66464>,\n",
       " <hwndwrapper.DialogWrapper - 'PopupMessageWindow', SunAwtFrame, 66462>,\n",
       " <hwndwrapper.DialogWrapper - '', GlassWndClass-GlassToolkitWindowClass-1, 66458>,\n",
       " <hwndwrapper.DialogWrapper - 'theAwtToolkitWindow', SunAwtToolkit, 393342>,\n",
       " <hwndwrapper.DialogWrapper - '', Chrome_WidgetWin_0, 66450>,\n",
       " <hwndwrapper.DialogWrapper - '', WindowsForms10.Window.0.app.0.1ca79e6_r6_ad1, 66448>,\n",
       " <hwndwrapper.DialogWrapper - '', Base_PowerMessageWindow, 66440>,\n",
       " <hwndwrapper.DialogWrapper - '', WindowsForms10.Window.0.app.0.1ca79e6_r6_ad1, 66376>,\n",
       " <hwndwrapper.DialogWrapper - '.NET-BroadcastEventWindow.4.0.0.0.1ca79e6.0', .NET-BroadcastEventWindow.4.0.0.0.1ca79e6.0, 66374>,\n",
       " <hwndwrapper.DialogWrapper - 'GDI+ Window (Docker Desktop.exe)', GDI+ Hook Window Class, 196992>,\n",
       " <win32_controls.StaticWrapper - '', Static, 131880>,\n",
       " <hwndwrapper.DialogWrapper - 'GDI+ Window (AnyDesk.exe)', GDI+ Hook Window Class, 66364>,\n",
       " <hwndwrapper.DialogWrapper - 'ad_msg_wnd', ad_msg_wnd_cls#0\n",
       " , 66360>,\n",
       " <hwndwrapper.DialogWrapper - 'MediaContextNotificationWindow', HwndWrapper[Docker Desktop.exe;;2bca32b0-a195-420b-9fde-33bf8d6a6f0a], 131730>,\n",
       " <hwndwrapper.DialogWrapper - 'SystemResourceNotifyWindow', HwndWrapper[Docker Desktop.exe;;163f243e-8a87-4e7c-9e28-ce7413c857c9], 131736>,\n",
       " <hwndwrapper.DialogWrapper - 'DDE Server Window', OleDdeWndClass, 197400>,\n",
       " <hwndwrapper.DialogWrapper - '', ATL:00007FFE50359920, 66324>,\n",
       " <hwndwrapper.DialogWrapper - '', ATL:00007FFE50359920, 66318>,\n",
       " <hwndwrapper.DialogWrapper - '', ATL:00007FFE50359920, 66312>,\n",
       " <hwndwrapper.DialogWrapper - 'OneDrive - Личная', SkyDrive Class Name {090B42FF-7B26-4416-99B6-CB17896CF07C}-Personal, 66242>,\n",
       " <hwndwrapper.DialogWrapper - '', ATL:00007FFE50359920, 66238>,\n",
       " <hwndwrapper.DialogWrapper - 'OpenVPN Messages', Dialog, 66222>,\n",
       " <hwndwrapper.DialogWrapper - 'OpenVPN', OpenVPN-GUI, 66218>,\n",
       " <hwndwrapper.DialogWrapper - 'RealtekAudioBackgroundProcessClass', RealtekAudioBackgroundProcessClass, 66214>,\n",
       " <hwndwrapper.DialogWrapper - '', ATL:00007FFE5E25B000, 262568>,\n",
       " <hwndwrapper.DialogWrapper - 'SecurityHealthSystray', SecHealth Window Class, 131524>,\n",
       " <hwndwrapper.DialogWrapper - '', WorkerW, 66104>,\n",
       " <hwndwrapper.DialogWrapper - '', WorkerW, 66082>,\n",
       " <hwndwrapper.DialogWrapper - 'NvSvc', NVSVC64.DLL, 66070>,\n",
       " <hwndwrapper.DialogWrapper - '', WorkerW, 131576>,\n",
       " <hwndwrapper.DialogWrapper - 'DDE Server Window', OleDdeWndClass, 262452>,\n",
       " <hwndwrapper.DialogWrapper - 'RealtekAudioAdminBackgroundProcessClass', RealtekAudioAdminBackgroundProcessClass, 66024>,\n",
       " <hwndwrapper.DialogWrapper - '', TabletModeCoverWindow, 65954>,\n",
       " <hwndwrapper.DialogWrapper - '', WorkerW, 65998>,\n",
       " <hwndwrapper.DialogWrapper - '', WorkerW, 66000>,\n",
       " <hwndwrapper.DialogWrapper - '', DummyDWMListenerWindow, 65956>,\n",
       " <hwndwrapper.DialogWrapper - '', EdgeUiInputTopWndClass, 65940>,\n",
       " <hwndwrapper.DialogWrapper - '', DummyDWMListenerWindow, 65906>,\n",
       " <hwndwrapper.DialogWrapper - '', DummyDWMListenerWindow, 65904>,\n",
       " <hwndwrapper.DialogWrapper - '', WorkerW, 65890>,\n",
       " <hwndwrapper.DialogWrapper - '', WorkerW, 65880>,\n",
       " <hwndwrapper.DialogWrapper - '', WorkerW, 65878>,\n",
       " <hwndwrapper.DialogWrapper - '', WorkerW, 65862>,\n",
       " <hwndwrapper.DialogWrapper - '', WorkerW, 328348>,\n",
       " <hwndwrapper.DialogWrapper - 'Microsoft Text Input Application', Windows.UI.Core.CoreWindow, 131122>,\n",
       " <hwndwrapper.DialogWrapper - 'BluetoothNotificationAreaIconWindowClass', BluetoothNotificationAreaIconWindowClass, 131110>,\n",
       " <hwndwrapper.DialogWrapper - 'MS_WebcheckMonitor', MS_WebcheckMonitor, 196630>,\n",
       " <hwndwrapper.DialogWrapper - 'UxdService', UxdService, 66112>,\n",
       " <hwndwrapper.HwndWrapper - '', DDEMLEvent, 65722>,\n",
       " <hwndwrapper.DialogWrapper - '', DDEMLMom, 65718>,\n",
       " <hwndwrapper.DialogWrapper - 'Task Host Window', COMTASKSWINDOWCLASS, 65690>,\n",
       " <hwndwrapper.DialogWrapper - 'The Event Manager Dashboard', Dialog, 65672>,\n",
       " <hwndwrapper.DialogWrapper - 'Windows Push Notifications Platform', PushNotificationsPowerManagement, 131204>,\n",
       " <hwndwrapper.DialogWrapper - 'NvContainerWindowClass00007484', NvContainerWindowClass00007484, 65630>,\n",
       " <hwndwrapper.DialogWrapper - 'DWM Notification Window', Dwm, 65594>,\n",
       " <hwndwrapper.DialogWrapper - '', CicLoaderWndClass, 65958>,\n",
       " <hwndwrapper.DialogWrapper - '', WindowsForms10.Window.8.app.0.1ca79e6_r6_ad1, 66446>,\n",
       " <hwndwrapper.DialogWrapper - 'Program Manager', Progman, 196910>,\n",
       " <hwndwrapper.DialogWrapper - 'M', MSCTFIME UI, 918718>,\n",
       " <hwndwrapper.DialogWrapper - 'Default IME', IME, 65968>,\n",
       " <hwndwrapper.DialogWrapper - 'M', MSCTFIME UI, 854336>,\n",
       " <hwndwrapper.DialogWrapper - 'Default IME', IME, 65892>,\n",
       " <hwndwrapper.DialogWrapper - 'M', MSCTFIME UI, 853326>,\n",
       " <hwndwrapper.DialogWrapper - 'Default IME', IME, 66452>,\n",
       " <hwndwrapper.DialogWrapper - 'M', MSCTFIME UI, 131394>,\n",
       " <hwndwrapper.DialogWrapper - 'Default IME', IME, 196830>,\n",
       " <hwndwrapper.DialogWrapper - 'Default IME', IME, 66094>,\n",
       " <hwndwrapper.DialogWrapper - 'Default IME', IME, 66652>,\n",
       " <hwndwrapper.DialogWrapper - 'M', MSCTFIME UI, 1116318>,\n",
       " <hwndwrapper.DialogWrapper - 'Default IME', IME, 263370>,\n",
       " <hwndwrapper.DialogWrapper - 'M', MSCTFIME UI, 854346>,\n",
       " <hwndwrapper.DialogWrapper - 'Default IME', IME, 1182020>,\n",
       " <hwndwrapper.DialogWrapper - 'Default IME', IME, 1312066>,\n",
       " <hwndwrapper.DialogWrapper - 'Default IME', IME, 264826>,\n",
       " <hwndwrapper.DialogWrapper - 'Default IME', IME, 68154>,\n",
       " <hwndwrapper.DialogWrapper - 'M', MSCTFIME UI, 329964>,\n",
       " <hwndwrapper.DialogWrapper - 'Default IME', IME, 526530>,\n",
       " <hwndwrapper.DialogWrapper - 'Default IME', IME, 67968>,\n",
       " <hwndwrapper.DialogWrapper - 'M', MSCTFIME UI, 394514>,\n",
       " <hwndwrapper.DialogWrapper - 'Default IME', IME, 394490>,\n",
       " <hwndwrapper.DialogWrapper - 'Default IME', IME, 133458>,\n",
       " <hwndwrapper.DialogWrapper - 'Default IME', IME, 67854>,\n",
       " <hwndwrapper.DialogWrapper - 'Default IME', IME, 67842>,\n",
       " <hwndwrapper.DialogWrapper - 'M', MSCTFIME UI, 133252>,\n",
       " <hwndwrapper.DialogWrapper - 'Default IME', IME, 66558>,\n",
       " <hwndwrapper.DialogWrapper - 'Default IME', IME, 328980>,\n",
       " <hwndwrapper.DialogWrapper - 'M', MSCTFIME UI, 786648>,\n",
       " <hwndwrapper.DialogWrapper - 'Default IME', IME, 852162>,\n",
       " <hwndwrapper.DialogWrapper - 'M', MSCTFIME UI, 132260>,\n",
       " <hwndwrapper.DialogWrapper - 'Default IME', IME, 66694>,\n",
       " <hwndwrapper.DialogWrapper - 'M', MSCTFIME UI, 328300>,\n",
       " <hwndwrapper.DialogWrapper - 'Default IME', IME, 328784>,\n",
       " <hwndwrapper.DialogWrapper - 'Default IME', IME, 1114750>,\n",
       " <hwndwrapper.DialogWrapper - 'Default IME', IME, 66820>,\n",
       " <hwndwrapper.DialogWrapper - 'Default IME', IME, 132084>,\n",
       " <hwndwrapper.DialogWrapper - 'Default IME', IME, 197230>,\n",
       " <hwndwrapper.DialogWrapper - 'Default IME', IME, 131222>,\n",
       " <hwndwrapper.DialogWrapper - 'Default IME', IME, 197598>,\n",
       " <hwndwrapper.DialogWrapper - 'Default IME', IME, 132208>,\n",
       " <hwndwrapper.DialogWrapper - 'Default IME', IME, 66698>,\n",
       " <hwndwrapper.DialogWrapper - 'Default IME', IME, 589868>,\n",
       " <hwndwrapper.DialogWrapper - 'Default IME', IME, 66616>,\n",
       " <hwndwrapper.DialogWrapper - 'Default IME', IME, 66606>,\n",
       " <hwndwrapper.DialogWrapper - 'Default IME', IME, 66604>,\n",
       " <hwndwrapper.DialogWrapper - 'Default IME', IME, 197412>,\n",
       " <hwndwrapper.DialogWrapper - 'Default IME', IME, 131884>,\n",
       " <hwndwrapper.DialogWrapper - 'Default IME', IME, 66460>,\n",
       " <hwndwrapper.DialogWrapper - 'Default IME', IME, 66442>,\n",
       " <hwndwrapper.DialogWrapper - 'Default IME', IME, 66370>,\n",
       " <hwndwrapper.DialogWrapper - 'Default IME', IME, 66368>,\n",
       " <hwndwrapper.DialogWrapper - 'Default IME', IME, 66366>,\n",
       " <hwndwrapper.DialogWrapper - 'Default IME', IME, 66362>,\n",
       " <hwndwrapper.DialogWrapper - 'Default IME', IME, 131732>,\n",
       " <hwndwrapper.DialogWrapper - 'Default IME', IME, 66326>,\n",
       " <hwndwrapper.DialogWrapper - 'Default IME', IME, 66320>,\n",
       " <hwndwrapper.DialogWrapper - 'Default IME', IME, 66314>,\n",
       " <hwndwrapper.DialogWrapper - 'Default IME', IME, 66240>,\n",
       " <hwndwrapper.DialogWrapper - 'M', MSCTFIME UI, 66232>,\n",
       " <hwndwrapper.DialogWrapper - 'Default IME', IME, 66220>,\n",
       " <hwndwrapper.DialogWrapper - 'Default IME', IME, 66216>,\n",
       " <hwndwrapper.DialogWrapper - 'Default IME', IME, 197280>,\n",
       " <hwndwrapper.DialogWrapper - 'Default IME', IME, 66106>,\n",
       " <hwndwrapper.DialogWrapper - 'Default IME', IME, 131578>,\n",
       " <hwndwrapper.DialogWrapper - 'Default IME', IME, 66028>,\n",
       " <hwndwrapper.DialogWrapper - 'Default IME', IME, 65864>,\n",
       " <hwndwrapper.DialogWrapper - 'Default IME', IME, 66206>,\n",
       " <hwndwrapper.DialogWrapper - 'Default IME', IME, 131112>,\n",
       " <hwndwrapper.DialogWrapper - 'M', MSCTFIME UI, 65710>,\n",
       " <hwndwrapper.DialogWrapper - 'Default IME', IME, 65674>,\n",
       " <hwndwrapper.DialogWrapper - 'Default IME', IME, 65670>,\n",
       " <hwndwrapper.DialogWrapper - 'M', MSCTFIME UI, 131412>,\n",
       " <hwndwrapper.DialogWrapper - 'Default IME', IME, 65720>]"
      ]
     },
     "execution_count": 27,
     "metadata": {},
     "output_type": "execute_result"
    }
   ],
   "source": [
    "desktop.windows()"
   ]
  },
  {
   "cell_type": "code",
   "execution_count": 29,
   "id": "87d2a28e",
   "metadata": {},
   "outputs": [],
   "source": [
    "app = desktop.window(title='Открыть файл', class_name='SunAwtDialog')"
   ]
  },
  {
   "cell_type": "code",
   "execution_count": 30,
   "id": "3c2eebc5",
   "metadata": {},
   "outputs": [
    {
     "data": {
      "text/plain": [
       "['app',\n",
       " 'criteria',\n",
       " 'actions',\n",
       " 'backend',\n",
       " 'allow_magic_lookup',\n",
       " 'WrapperObject',\n",
       " 'ChildWindow',\n",
       " 'Exists',\n",
       " 'Wait',\n",
       " 'WaitNot',\n",
       " 'PrintControlIdentifiers',\n",
       " 'Window',\n",
       " 'Window_',\n",
       " 'window_',\n",
       " '__module__',\n",
       " '__doc__',\n",
       " 'WAIT_CRITERIA_MAP',\n",
       " '__init__',\n",
       " '__call__',\n",
       " '_WindowSpecification__get_ctrl',\n",
       " '_WindowSpecification__resolve_control',\n",
       " 'wrapper_object',\n",
       " 'child_window',\n",
       " 'window',\n",
       " '__getitem__',\n",
       " '__getattribute__',\n",
       " 'exists',\n",
       " '_WindowSpecification__parse_wait_args',\n",
       " '_WindowSpecification__check_all_conditions',\n",
       " 'wait',\n",
       " 'wait_not',\n",
       " '_ctrl_identifiers',\n",
       " 'print_control_identifiers',\n",
       " 'print_ctrl_ids',\n",
       " 'dump_tree',\n",
       " '__dict__',\n",
       " '__weakref__',\n",
       " '__new__',\n",
       " '__repr__',\n",
       " '__hash__',\n",
       " '__str__',\n",
       " '__setattr__',\n",
       " '__delattr__',\n",
       " '__lt__',\n",
       " '__le__',\n",
       " '__eq__',\n",
       " '__ne__',\n",
       " '__gt__',\n",
       " '__ge__',\n",
       " '__reduce_ex__',\n",
       " '__reduce__',\n",
       " '__subclasshook__',\n",
       " '__init_subclass__',\n",
       " '__format__',\n",
       " '__sizeof__',\n",
       " '__dir__',\n",
       " '__class__']"
      ]
     },
     "execution_count": 30,
     "metadata": {},
     "output_type": "execute_result"
    }
   ],
   "source": [
    "app.__dir__()"
   ]
  },
  {
   "cell_type": "code",
   "execution_count": 13,
   "id": "d1a4b97e",
   "metadata": {},
   "outputs": [
    {
     "ename": "ElementNotFoundError",
     "evalue": "{'class_name': 'TaskListThumbnailWnd', 'top_level_only': True, 'backend': 'win32'}",
     "output_type": "error",
     "traceback": [
      "\u001b[1;31m---------------------------------------------------------------------------\u001b[0m",
      "\u001b[1;31mTimeoutError\u001b[0m                              Traceback (most recent call last)",
      "File \u001b[1;32m~\\AppData\\Local\\Programs\\Python\\Python310\\lib\\site-packages\\pywinauto\\application.py:250\u001b[0m, in \u001b[0;36mWindowSpecification.__resolve_control\u001b[1;34m(self, criteria, timeout, retry_interval)\u001b[0m\n\u001b[0;32m    249\u001b[0m \u001b[38;5;28;01mtry\u001b[39;00m:\n\u001b[1;32m--> 250\u001b[0m     ctrl \u001b[38;5;241m=\u001b[39m \u001b[43mwait_until_passes\u001b[49m\u001b[43m(\u001b[49m\n\u001b[0;32m    251\u001b[0m \u001b[43m        \u001b[49m\u001b[43mtimeout\u001b[49m\u001b[43m,\u001b[49m\n\u001b[0;32m    252\u001b[0m \u001b[43m        \u001b[49m\u001b[43mretry_interval\u001b[49m\u001b[43m,\u001b[49m\n\u001b[0;32m    253\u001b[0m \u001b[43m        \u001b[49m\u001b[38;5;28;43mself\u001b[39;49m\u001b[38;5;241;43m.\u001b[39;49m\u001b[43m__get_ctrl\u001b[49m\u001b[43m,\u001b[49m\n\u001b[0;32m    254\u001b[0m \u001b[43m        \u001b[49m\u001b[43m(\u001b[49m\u001b[43mfindwindows\u001b[49m\u001b[38;5;241;43m.\u001b[39;49m\u001b[43mElementNotFoundError\u001b[49m\u001b[43m,\u001b[49m\n\u001b[0;32m    255\u001b[0m \u001b[43m         \u001b[49m\u001b[43mfindbestmatch\u001b[49m\u001b[38;5;241;43m.\u001b[39;49m\u001b[43mMatchError\u001b[49m\u001b[43m,\u001b[49m\n\u001b[0;32m    256\u001b[0m \u001b[43m         \u001b[49m\u001b[43mcontrols\u001b[49m\u001b[38;5;241;43m.\u001b[39;49m\u001b[43mInvalidWindowHandle\u001b[49m\u001b[43m,\u001b[49m\n\u001b[0;32m    257\u001b[0m \u001b[43m         \u001b[49m\u001b[43mcontrols\u001b[49m\u001b[38;5;241;43m.\u001b[39;49m\u001b[43mInvalidElement\u001b[49m\u001b[43m)\u001b[49m\u001b[43m,\u001b[49m\n\u001b[0;32m    258\u001b[0m \u001b[43m        \u001b[49m\u001b[43mcriteria\u001b[49m\u001b[43m)\u001b[49m\n\u001b[0;32m    260\u001b[0m \u001b[38;5;28;01mexcept\u001b[39;00m \u001b[38;5;167;01mTimeoutError\u001b[39;00m \u001b[38;5;28;01mas\u001b[39;00m e:\n",
      "File \u001b[1;32m~\\AppData\\Local\\Programs\\Python\\Python310\\lib\\site-packages\\pywinauto\\timings.py:458\u001b[0m, in \u001b[0;36mwait_until_passes\u001b[1;34m(timeout, retry_interval, func, exceptions, *args, **kwargs)\u001b[0m\n\u001b[0;32m    457\u001b[0m             err\u001b[38;5;241m.\u001b[39moriginal_exception \u001b[38;5;241m=\u001b[39m e\n\u001b[1;32m--> 458\u001b[0m             \u001b[38;5;28;01mraise\u001b[39;00m err\n\u001b[0;32m    460\u001b[0m \u001b[38;5;66;03m# return the function value\u001b[39;00m\n",
      "\u001b[1;31mTimeoutError\u001b[0m: ",
      "\nDuring handling of the above exception, another exception occurred:\n",
      "\u001b[1;31mElementNotFoundError\u001b[0m                      Traceback (most recent call last)",
      "Input \u001b[1;32mIn [13]\u001b[0m, in \u001b[0;36m<cell line: 1>\u001b[1;34m()\u001b[0m\n\u001b[1;32m----> 1\u001b[0m \u001b[43mdesktop\u001b[49m\u001b[38;5;241;43m.\u001b[39;49m\u001b[43mwindow\u001b[49m\u001b[43m(\u001b[49m\u001b[43mclass_name\u001b[49m\u001b[38;5;241;43m=\u001b[39;49m\u001b[38;5;124;43m'\u001b[39;49m\u001b[38;5;124;43mTaskListThumbnailWnd\u001b[39;49m\u001b[38;5;124;43m'\u001b[39;49m\u001b[43m)\u001b[49m\u001b[38;5;241;43m.\u001b[39;49m\u001b[43mdraw_outline\u001b[49m()\n",
      "File \u001b[1;32m~\\AppData\\Local\\Programs\\Python\\Python310\\lib\\site-packages\\pywinauto\\application.py:355\u001b[0m, in \u001b[0;36mWindowSpecification.__getattribute__\u001b[1;34m(self, attr_name)\u001b[0m\n\u001b[0;32m    353\u001b[0m     \u001b[38;5;28;01mreturn\u001b[39;00m \u001b[38;5;28mobject\u001b[39m\u001b[38;5;241m.\u001b[39m\u001b[38;5;21m__getattribute__\u001b[39m(\u001b[38;5;28mself\u001b[39m, attr_name)\n\u001b[0;32m    354\u001b[0m \u001b[38;5;28;01mexcept\u001b[39;00m \u001b[38;5;167;01mAttributeError\u001b[39;00m:\n\u001b[1;32m--> 355\u001b[0m     wrapper_object \u001b[38;5;241m=\u001b[39m \u001b[38;5;28;43mself\u001b[39;49m\u001b[38;5;241;43m.\u001b[39;49m\u001b[43mwrapper_object\u001b[49m\u001b[43m(\u001b[49m\u001b[43m)\u001b[49m\n\u001b[0;32m    356\u001b[0m     \u001b[38;5;28;01mtry\u001b[39;00m:\n\u001b[0;32m    357\u001b[0m         \u001b[38;5;28;01mreturn\u001b[39;00m \u001b[38;5;28mgetattr\u001b[39m(wrapper_object, attr_name)\n",
      "File \u001b[1;32m~\\AppData\\Local\\Programs\\Python\\Python310\\lib\\site-packages\\pywinauto\\application.py:267\u001b[0m, in \u001b[0;36mWindowSpecification.wrapper_object\u001b[1;34m(self)\u001b[0m\n\u001b[0;32m    265\u001b[0m \u001b[38;5;28;01mdef\u001b[39;00m \u001b[38;5;21mwrapper_object\u001b[39m(\u001b[38;5;28mself\u001b[39m):\n\u001b[0;32m    266\u001b[0m     \u001b[38;5;124;03m\"\"\"Allow the calling code to get the HwndWrapper object\"\"\"\u001b[39;00m\n\u001b[1;32m--> 267\u001b[0m     ctrls \u001b[38;5;241m=\u001b[39m \u001b[38;5;28;43mself\u001b[39;49m\u001b[38;5;241;43m.\u001b[39;49m\u001b[43m__resolve_control\u001b[49m\u001b[43m(\u001b[49m\u001b[38;5;28;43mself\u001b[39;49m\u001b[38;5;241;43m.\u001b[39;49m\u001b[43mcriteria\u001b[49m\u001b[43m)\u001b[49m\n\u001b[0;32m    268\u001b[0m     \u001b[38;5;28;01mreturn\u001b[39;00m ctrls[\u001b[38;5;241m-\u001b[39m\u001b[38;5;241m1\u001b[39m]\n",
      "File \u001b[1;32m~\\AppData\\Local\\Programs\\Python\\Python310\\lib\\site-packages\\pywinauto\\application.py:261\u001b[0m, in \u001b[0;36mWindowSpecification.__resolve_control\u001b[1;34m(self, criteria, timeout, retry_interval)\u001b[0m\n\u001b[0;32m    250\u001b[0m     ctrl \u001b[38;5;241m=\u001b[39m wait_until_passes(\n\u001b[0;32m    251\u001b[0m         timeout,\n\u001b[0;32m    252\u001b[0m         retry_interval,\n\u001b[1;32m   (...)\u001b[0m\n\u001b[0;32m    257\u001b[0m          controls\u001b[38;5;241m.\u001b[39mInvalidElement),\n\u001b[0;32m    258\u001b[0m         criteria)\n\u001b[0;32m    260\u001b[0m \u001b[38;5;28;01mexcept\u001b[39;00m \u001b[38;5;167;01mTimeoutError\u001b[39;00m \u001b[38;5;28;01mas\u001b[39;00m e:\n\u001b[1;32m--> 261\u001b[0m     \u001b[38;5;28;01mraise\u001b[39;00m e\u001b[38;5;241m.\u001b[39moriginal_exception\n\u001b[0;32m    263\u001b[0m \u001b[38;5;28;01mreturn\u001b[39;00m ctrl\n",
      "File \u001b[1;32m~\\AppData\\Local\\Programs\\Python\\Python310\\lib\\site-packages\\pywinauto\\timings.py:436\u001b[0m, in \u001b[0;36mwait_until_passes\u001b[1;34m(timeout, retry_interval, func, exceptions, *args, **kwargs)\u001b[0m\n\u001b[0;32m    433\u001b[0m \u001b[38;5;28;01mwhile\u001b[39;00m \u001b[38;5;28;01mTrue\u001b[39;00m:\n\u001b[0;32m    434\u001b[0m     \u001b[38;5;28;01mtry\u001b[39;00m:\n\u001b[0;32m    435\u001b[0m         \u001b[38;5;66;03m# Call the function with any arguments\u001b[39;00m\n\u001b[1;32m--> 436\u001b[0m         func_val \u001b[38;5;241m=\u001b[39m func(\u001b[38;5;241m*\u001b[39margs, \u001b[38;5;241m*\u001b[39m\u001b[38;5;241m*\u001b[39mkwargs)\n\u001b[0;32m    438\u001b[0m         \u001b[38;5;66;03m# if no exception is raised then we are finished\u001b[39;00m\n\u001b[0;32m    439\u001b[0m         \u001b[38;5;28;01mbreak\u001b[39;00m\n",
      "File \u001b[1;32m~\\AppData\\Local\\Programs\\Python\\Python310\\lib\\site-packages\\pywinauto\\application.py:203\u001b[0m, in \u001b[0;36mWindowSpecification.__get_ctrl\u001b[1;34m(self, criteria_)\u001b[0m\n\u001b[0;32m    201\u001b[0m     criteria[\u001b[38;5;241m0\u001b[39m][\u001b[38;5;124m'\u001b[39m\u001b[38;5;124mprocess\u001b[39m\u001b[38;5;124m'\u001b[39m] \u001b[38;5;241m=\u001b[39m \u001b[38;5;28mself\u001b[39m\u001b[38;5;241m.\u001b[39mapp\u001b[38;5;241m.\u001b[39mprocess\n\u001b[0;32m    202\u001b[0m     \u001b[38;5;28;01mdel\u001b[39;00m criteria[\u001b[38;5;241m0\u001b[39m][\u001b[38;5;124m'\u001b[39m\u001b[38;5;124mapp\u001b[39m\u001b[38;5;124m'\u001b[39m]\n\u001b[1;32m--> 203\u001b[0m dialog \u001b[38;5;241m=\u001b[39m \u001b[38;5;28mself\u001b[39m\u001b[38;5;241m.\u001b[39mbackend\u001b[38;5;241m.\u001b[39mgeneric_wrapper_class(findwindows\u001b[38;5;241m.\u001b[39mfind_element(\u001b[38;5;241m*\u001b[39m\u001b[38;5;241m*\u001b[39mcriteria[\u001b[38;5;241m0\u001b[39m]))\n\u001b[0;32m    205\u001b[0m ctrls \u001b[38;5;241m=\u001b[39m []\n\u001b[0;32m    206\u001b[0m \u001b[38;5;66;03m# if there is only criteria for a dialog then return it\u001b[39;00m\n",
      "File \u001b[1;32m~\\AppData\\Local\\Programs\\Python\\Python310\\lib\\site-packages\\pywinauto\\findwindows.py:87\u001b[0m, in \u001b[0;36mfind_element\u001b[1;34m(**kwargs)\u001b[0m\n\u001b[0;32m     84\u001b[0m elements \u001b[38;5;241m=\u001b[39m find_elements(\u001b[38;5;241m*\u001b[39m\u001b[38;5;241m*\u001b[39mkwargs)\n\u001b[0;32m     86\u001b[0m \u001b[38;5;28;01mif\u001b[39;00m \u001b[38;5;129;01mnot\u001b[39;00m elements:\n\u001b[1;32m---> 87\u001b[0m     \u001b[38;5;28;01mraise\u001b[39;00m ElementNotFoundError(kwargs)\n\u001b[0;32m     89\u001b[0m \u001b[38;5;28;01mif\u001b[39;00m \u001b[38;5;28mlen\u001b[39m(elements) \u001b[38;5;241m>\u001b[39m \u001b[38;5;241m1\u001b[39m:\n\u001b[0;32m     90\u001b[0m     exception \u001b[38;5;241m=\u001b[39m ElementAmbiguousError(\n\u001b[0;32m     91\u001b[0m         \u001b[38;5;124m\"\u001b[39m\u001b[38;5;124mThere are \u001b[39m\u001b[38;5;132;01m{0}\u001b[39;00m\u001b[38;5;124m elements that match the criteria \u001b[39m\u001b[38;5;132;01m{1}\u001b[39;00m\u001b[38;5;124m\"\u001b[39m\u001b[38;5;241m.\u001b[39mformat(\n\u001b[0;32m     92\u001b[0m             \u001b[38;5;28mlen\u001b[39m(elements),\n\u001b[0;32m     93\u001b[0m             six\u001b[38;5;241m.\u001b[39mtext_type(kwargs),\n\u001b[0;32m     94\u001b[0m         )\n\u001b[0;32m     95\u001b[0m     )\n",
      "\u001b[1;31mElementNotFoundError\u001b[0m: {'class_name': 'TaskListThumbnailWnd', 'top_level_only': True, 'backend': 'win32'}"
     ]
    }
   ],
   "source": [
    "desktop.window(class_name='TaskListThumbnailWnd').draw_outline()"
   ]
  },
  {
   "cell_type": "code",
   "execution_count": 1,
   "id": "5725198f",
   "metadata": {},
   "outputs": [
    {
     "data": {
      "text/plain": [
       "1"
      ]
     },
     "execution_count": 1,
     "metadata": {},
     "output_type": "execute_result"
    }
   ],
   "source": [
    "import os\n",
    "os.system(\"taskkill /im CHROMEDRIVER.exe\")"
   ]
  },
  {
   "cell_type": "code",
   "execution_count": 6,
   "id": "a28dfa05",
   "metadata": {},
   "outputs": [],
   "source": [
    "from uiarecorder import cli"
   ]
  },
  {
   "cell_type": "code",
   "execution_count": 7,
   "id": "6e8e2ea0",
   "metadata": {},
   "outputs": [],
   "source": [
    "cli.start()"
   ]
  },
  {
   "cell_type": "code",
   "execution_count": null,
   "id": "98ea58c9",
   "metadata": {},
   "outputs": [],
   "source": [
    "cli.stop()"
   ]
  },
  {
   "cell_type": "code",
   "execution_count": 1,
   "id": "e0cccb08",
   "metadata": {},
   "outputs": [],
   "source": [
    "from uiarecorder.play import find_element_by_uia"
   ]
  },
  {
   "cell_type": "code",
   "execution_count": 6,
   "id": "c13aed90",
   "metadata": {},
   "outputs": [],
   "source": [
    "elem = find_element_by_uia('recorder_elems/temp')"
   ]
  },
  {
   "cell_type": "code",
   "execution_count": 8,
   "id": "140edd3c",
   "metadata": {},
   "outputs": [],
   "source": [
    "import time\n",
    "time.sleep(3)\n",
    "elem.draw_outline()"
   ]
  },
  {
   "cell_type": "code",
   "execution_count": 2,
   "id": "9e44e16b",
   "metadata": {},
   "outputs": [],
   "source": [
    "from pywinauto import Application"
   ]
  },
  {
   "cell_type": "code",
   "execution_count": 15,
   "id": "57d1fb2a",
   "metadata": {},
   "outputs": [
    {
     "data": {
      "text/plain": [
       "<pywinauto.application.Application at 0x2ca903aeaa0>"
      ]
     },
     "execution_count": 15,
     "metadata": {},
     "output_type": "execute_result"
    }
   ],
   "source": [
    "app = Application(backend='uia')\n",
    "app.connect(path='Notepad.exe', timeout=60)"
   ]
  },
  {
   "cell_type": "code",
   "execution_count": 19,
   "id": "f47431b8",
   "metadata": {},
   "outputs": [
    {
     "name": "stdout",
     "output_type": "stream",
     "text": [
      "Control Identifiers:\n",
      "\n",
      "Dialog - 'Безымянный – Блокнот'    (L896, T53, R2049, B576)\n",
      "['Безымянный – Блокнот', 'Безымянный – БлокнотDialog', 'Dialog']\n",
      "child_window(title=\"Безымянный – Блокнот\", control_type=\"Window\")\n",
      "   | \n",
      "   | Edit - 'Текстовый редактор'    (L905, T116, R2040, B538)\n",
      "   | ['Edit']\n",
      "   | child_window(title=\"Текстовый редактор\", auto_id=\"15\", control_type=\"Edit\")\n",
      "   |    | \n",
      "   |    | ScrollBar - 'По вертикали'    (L2019, T116, R2040, B517)\n",
      "   |    | ['По вертикалиScrollBar', 'По вертикали', 'ScrollBar', 'ScrollBar0', 'ScrollBar1']\n",
      "   |    | child_window(title=\"По вертикали\", auto_id=\"NonClientVerticalScrollBar\", control_type=\"ScrollBar\")\n",
      "   |    |    | \n",
      "   |    |    | Button - 'Строка вверх'    (L2019, T116, R2040, B137)\n",
      "   |    |    | ['Строка вверх', 'Button', 'Строка вверхButton', 'Button0', 'Button1']\n",
      "   |    |    | child_window(title=\"Строка вверх\", auto_id=\"UpButton\", control_type=\"Button\")\n",
      "   |    |    | \n",
      "   |    |    | Button - 'Строка вниз'    (L2019, T496, R2040, B517)\n",
      "   |    |    | ['Строка вниз', 'Button2', 'Строка внизButton']\n",
      "   |    |    | child_window(title=\"Строка вниз\", auto_id=\"DownButton\", control_type=\"Button\")\n",
      "   |    | \n",
      "   |    | ScrollBar - 'По горизонтали'    (L905, T517, R2019, B538)\n",
      "   |    | ['По горизонтали', 'ScrollBar2', 'По горизонталиScrollBar']\n",
      "   |    | child_window(title=\"По горизонтали\", auto_id=\"NonClientHorizontalScrollBar\", control_type=\"ScrollBar\")\n",
      "   |    |    | \n",
      "   |    |    | Button - 'Колонка влево'    (L905, T517, R926, B538)\n",
      "   |    |    | ['Колонка влевоButton', 'Button3', 'Колонка влево']\n",
      "   |    |    | child_window(title=\"Колонка влево\", auto_id=\"UpButton\", control_type=\"Button\")\n",
      "   |    |    | \n",
      "   |    |    | Button - 'Колонка вправо'    (L1998, T517, R2019, B538)\n",
      "   |    |    | ['Колонка вправо', 'Колонка вправоButton', 'Button4']\n",
      "   |    |    | child_window(title=\"Колонка вправо\", auto_id=\"DownButton\", control_type=\"Button\")\n",
      "   |    | \n",
      "   |    | Thumb - ''    (L2019, T517, R2040, B538)\n",
      "   |    | ['Thumb']\n",
      "   | \n",
      "   | StatusBar - 'Строка состояния'    (L905, T538, R2040, B567)\n",
      "   | ['Строка состоянияStatusBar', 'Строка состояния', 'StatusBar']\n",
      "   | child_window(title=\"Строка состояния\", auto_id=\"1025\", control_type=\"StatusBar\")\n",
      "   |    | \n",
      "   |    | Static - ''    (L905, T540, R1502, B567)\n",
      "   |    | ['Static', 'Static0', 'Static1']\n",
      "   |    | \n",
      "   |    | Static - '  Стр 1, стлб 1'    (L1504, T540, R1677, B567)\n",
      "   |    | ['Static2', '  Стр 1, стлб 1', '  Стр 1, стлб 1Static']\n",
      "   |    | child_window(title=\"  Стр 1, стлб 1\", control_type=\"Text\")\n",
      "   |    | \n",
      "   |    | Static - ' 100%'    (L1679, T540, R1740, B567)\n",
      "   |    | ['Static3', ' 100%Static', ' 100%']\n",
      "   |    | child_window(title=\" 100%\", control_type=\"Text\")\n",
      "   |    | \n",
      "   |    | Static - ' Windows (CRLF)'    (L1742, T540, R1890, B567)\n",
      "   |    | ['Static4', ' Windows (CRLF)', ' Windows (CRLF)Static']\n",
      "   |    | child_window(title=\" Windows (CRLF)\", control_type=\"Text\")\n",
      "   |    | \n",
      "   |    | Static - ' UTF-8'    (L1892, T540, R2020, B567)\n",
      "   |    | ['Static5', ' UTF-8', ' UTF-8Static']\n",
      "   |    | child_window(title=\" UTF-8\", control_type=\"Text\")\n",
      "   | \n",
      "   | TitleBar - ''    (L925, T56, R2040, B91)\n",
      "   | ['TitleBar']\n",
      "   |    | \n",
      "   |    | Menu - 'Система'    (L905, T62, R933, B90)\n",
      "   |    | ['СистемаMenu', 'Menu', 'Система', 'Система0', 'Система1', 'Menu0', 'Menu1']\n",
      "   |    | child_window(title=\"Система\", auto_id=\"MenuBar\", control_type=\"MenuBar\")\n",
      "   |    |    | \n",
      "   |    |    | MenuItem - 'Система'    (L905, T62, R933, B90)\n",
      "   |    |    | ['MenuItem', 'СистемаMenuItem', 'Система2', 'MenuItem0', 'MenuItem1']\n",
      "   |    |    | child_window(title=\"Система\", control_type=\"MenuItem\")\n",
      "   |    | \n",
      "   |    | Button - 'Свернуть'    (L1862, T54, R1922, B91)\n",
      "   |    | ['Button5', 'Свернуть', 'СвернутьButton']\n",
      "   |    | child_window(title=\"Свернуть\", control_type=\"Button\")\n",
      "   |    | \n",
      "   |    | Button - 'Развернуть'    (L1922, T54, R1981, B91)\n",
      "   |    | ['РазвернутьButton', 'Button6', 'Развернуть']\n",
      "   |    | child_window(title=\"Развернуть\", control_type=\"Button\")\n",
      "   |    | \n",
      "   |    | Button - 'Закрыть'    (L1981, T54, R2041, B91)\n",
      "   |    | ['ЗакрытьButton', 'Закрыть', 'Button7']\n",
      "   |    | child_window(title=\"Закрыть\", control_type=\"Button\")\n",
      "   | \n",
      "   | Menu - 'Приложение'    (L905, T91, R2040, B115)\n",
      "   | ['Menu2', 'Приложение', 'ПриложениеMenu']\n",
      "   | child_window(title=\"Приложение\", auto_id=\"MenuBar\", control_type=\"MenuBar\")\n",
      "   |    | \n",
      "   |    | MenuItem - 'Файл'    (L905, T91, R955, B115)\n",
      "   |    | ['Файл', 'ФайлMenuItem', 'MenuItem2']\n",
      "   |    | child_window(title=\"Файл\", control_type=\"MenuItem\")\n",
      "   |    | \n",
      "   |    | MenuItem - 'Правка'    (L955, T91, R1020, B115)\n",
      "   |    | ['Правка', 'MenuItem3', 'ПравкаMenuItem']\n",
      "   |    | child_window(title=\"Правка\", control_type=\"MenuItem\")\n",
      "   |    | \n",
      "   |    | MenuItem - 'Формат'    (L1020, T91, R1088, B115)\n",
      "   |    | ['Формат', 'ФорматMenuItem', 'MenuItem4']\n",
      "   |    | child_window(title=\"Формат\", control_type=\"MenuItem\")\n",
      "   |    | \n",
      "   |    | MenuItem - 'Вид'    (L1088, T91, R1128, B115)\n",
      "   |    | ['Вид', 'ВидMenuItem', 'MenuItem5']\n",
      "   |    | child_window(title=\"Вид\", control_type=\"MenuItem\")\n",
      "   |    | \n",
      "   |    | MenuItem - 'Справка'    (L1128, T91, R1200, B115)\n",
      "   |    | ['MenuItem6', 'Справка', 'СправкаMenuItem']\n",
      "   |    | child_window(title=\"Справка\", control_type=\"MenuItem\")\n"
     ]
    }
   ],
   "source": [
    "app.window(title='Безымянный – Блокнот').print_control_identifiers()"
   ]
  },
  {
   "cell_type": "code",
   "execution_count": 25,
   "id": "023ecccc",
   "metadata": {},
   "outputs": [
    {
     "data": {
      "text/plain": [
       "<pywinauto.application.WindowSpecification at 0x2ca90f46770>"
      ]
     },
     "execution_count": 25,
     "metadata": {},
     "output_type": "execute_result"
    }
   ],
   "source": [
    "app.window(title='Безымянный – Блокнот').child_window(title=\"Файл\", control_type=\"MenuItem\")"
   ]
  },
  {
   "cell_type": "code",
   "execution_count": null,
   "id": "6354d4a2",
   "metadata": {},
   "outputs": [],
   "source": []
  },
  {
   "cell_type": "code",
   "execution_count": null,
   "id": "bcba06f8",
   "metadata": {},
   "outputs": [],
   "source": []
  },
  {
   "cell_type": "code",
   "execution_count": null,
   "id": "e7cf41f5",
   "metadata": {},
   "outputs": [],
   "source": []
  },
  {
   "cell_type": "code",
   "execution_count": null,
   "id": "3ab8c7a8",
   "metadata": {},
   "outputs": [],
   "source": []
  },
  {
   "cell_type": "code",
   "execution_count": null,
   "id": "695e3b82",
   "metadata": {},
   "outputs": [],
   "source": []
  },
  {
   "cell_type": "code",
   "execution_count": 1,
   "id": "4f045aaa",
   "metadata": {},
   "outputs": [],
   "source": [
    "from uiarecorder import cli"
   ]
  },
  {
   "cell_type": "code",
   "execution_count": null,
   "id": "f095ca5f",
   "metadata": {},
   "outputs": [
    {
     "name": "stdout",
     "output_type": "stream",
     "text": [
      "cs\n"
     ]
    }
   ],
   "source": [
    "cli.start()\n",
    "input()\n",
    "cli.stop()"
   ]
  },
  {
   "cell_type": "code",
   "execution_count": null,
   "id": "4bd8d08f",
   "metadata": {},
   "outputs": [],
   "source": [
    "from uiarecorder.play"
   ]
  },
  {
   "cell_type": "code",
   "execution_count": null,
   "id": "8de009d7",
   "metadata": {},
   "outputs": [],
   "source": []
  },
  {
   "cell_type": "code",
   "execution_count": null,
   "id": "59ef4d33",
   "metadata": {},
   "outputs": [],
   "source": []
  },
  {
   "cell_type": "code",
   "execution_count": null,
   "id": "55e98578",
   "metadata": {},
   "outputs": [],
   "source": []
  },
  {
   "cell_type": "code",
   "execution_count": null,
   "id": "0bf5e42a",
   "metadata": {},
   "outputs": [],
   "source": []
  },
  {
   "cell_type": "code",
   "execution_count": null,
   "id": "d2cc1235",
   "metadata": {},
   "outputs": [],
   "source": []
  },
  {
   "cell_type": "code",
   "execution_count": null,
   "id": "b3d6f8cf",
   "metadata": {},
   "outputs": [],
   "source": []
  },
  {
   "cell_type": "code",
   "execution_count": null,
   "id": "48a3b00a",
   "metadata": {},
   "outputs": [],
   "source": []
  },
  {
   "cell_type": "code",
   "execution_count": null,
   "id": "e90347e3",
   "metadata": {},
   "outputs": [],
   "source": []
  },
  {
   "cell_type": "code",
   "execution_count": null,
   "id": "fc6692d5",
   "metadata": {},
   "outputs": [],
   "source": []
  },
  {
   "cell_type": "code",
   "execution_count": null,
   "id": "3f5499e8",
   "metadata": {},
   "outputs": [],
   "source": []
  },
  {
   "cell_type": "code",
   "execution_count": null,
   "id": "f0cc1550",
   "metadata": {},
   "outputs": [],
   "source": []
  },
  {
   "cell_type": "code",
   "execution_count": null,
   "id": "bb69af38",
   "metadata": {},
   "outputs": [],
   "source": []
  },
  {
   "cell_type": "code",
   "execution_count": null,
   "id": "de22c4fb",
   "metadata": {},
   "outputs": [],
   "source": []
  },
  {
   "cell_type": "code",
   "execution_count": null,
   "id": "298b55ca",
   "metadata": {},
   "outputs": [],
   "source": []
  }
 ],
 "metadata": {
  "kernelspec": {
   "display_name": "Python 3 (ipykernel)",
   "language": "python",
   "name": "python3"
  },
  "language_info": {
   "codemirror_mode": {
    "name": "ipython",
    "version": 3
   },
   "file_extension": ".py",
   "mimetype": "text/x-python",
   "name": "python",
   "nbconvert_exporter": "python",
   "pygments_lexer": "ipython3",
   "version": "3.10.2"
  }
 },
 "nbformat": 4,
 "nbformat_minor": 5
}
